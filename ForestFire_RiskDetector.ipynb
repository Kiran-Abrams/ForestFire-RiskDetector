{
  "nbformat": 4,
  "nbformat_minor": 0,
  "metadata": {
    "colab": {
      "provenance": []
    },
    "kernelspec": {
      "name": "python3",
      "display_name": "Python 3"
    },
    "language_info": {
      "name": "python"
    }
  },
  "cells": [
    {
      "cell_type": "code",
      "source": [
        "###Install the liberies"
      ],
      "metadata": {
        "id": "PnWocgsKSp9W"
      },
      "execution_count": 3,
      "outputs": []
    },
    {
      "cell_type": "code",
      "source": [
        "pip install numpy pandas scikit-learn seaborn matplotlib"
      ],
      "metadata": {
        "colab": {
          "base_uri": "https://localhost:8080/"
        },
        "id": "CMiDWRsoStzP",
        "outputId": "0cf90ecb-f5fc-43f5-9557-203be3e1d400"
      },
      "execution_count": 4,
      "outputs": [
        {
          "output_type": "stream",
          "name": "stdout",
          "text": [
            "Requirement already satisfied: numpy in /usr/local/lib/python3.12/dist-packages (2.0.2)\n",
            "Requirement already satisfied: pandas in /usr/local/lib/python3.12/dist-packages (2.2.2)\n",
            "Requirement already satisfied: scikit-learn in /usr/local/lib/python3.12/dist-packages (1.6.1)\n",
            "Requirement already satisfied: seaborn in /usr/local/lib/python3.12/dist-packages (0.13.2)\n",
            "Requirement already satisfied: matplotlib in /usr/local/lib/python3.12/dist-packages (3.10.0)\n",
            "Requirement already satisfied: python-dateutil>=2.8.2 in /usr/local/lib/python3.12/dist-packages (from pandas) (2.9.0.post0)\n",
            "Requirement already satisfied: pytz>=2020.1 in /usr/local/lib/python3.12/dist-packages (from pandas) (2025.2)\n",
            "Requirement already satisfied: tzdata>=2022.7 in /usr/local/lib/python3.12/dist-packages (from pandas) (2025.2)\n",
            "Requirement already satisfied: scipy>=1.6.0 in /usr/local/lib/python3.12/dist-packages (from scikit-learn) (1.16.1)\n",
            "Requirement already satisfied: joblib>=1.2.0 in /usr/local/lib/python3.12/dist-packages (from scikit-learn) (1.5.1)\n",
            "Requirement already satisfied: threadpoolctl>=3.1.0 in /usr/local/lib/python3.12/dist-packages (from scikit-learn) (3.6.0)\n",
            "Requirement already satisfied: contourpy>=1.0.1 in /usr/local/lib/python3.12/dist-packages (from matplotlib) (1.3.3)\n",
            "Requirement already satisfied: cycler>=0.10 in /usr/local/lib/python3.12/dist-packages (from matplotlib) (0.12.1)\n",
            "Requirement already satisfied: fonttools>=4.22.0 in /usr/local/lib/python3.12/dist-packages (from matplotlib) (4.59.1)\n",
            "Requirement already satisfied: kiwisolver>=1.3.1 in /usr/local/lib/python3.12/dist-packages (from matplotlib) (1.4.9)\n",
            "Requirement already satisfied: packaging>=20.0 in /usr/local/lib/python3.12/dist-packages (from matplotlib) (25.0)\n",
            "Requirement already satisfied: pillow>=8 in /usr/local/lib/python3.12/dist-packages (from matplotlib) (11.3.0)\n",
            "Requirement already satisfied: pyparsing>=2.3.1 in /usr/local/lib/python3.12/dist-packages (from matplotlib) (3.2.3)\n",
            "Requirement already satisfied: six>=1.5 in /usr/local/lib/python3.12/dist-packages (from python-dateutil>=2.8.2->pandas) (1.17.0)\n"
          ]
        }
      ]
    },
    {
      "cell_type": "code",
      "source": [
        "#Importing necessary libraries\n",
        "import pandas as pd\n",
        "import numpy as np\n",
        "import matplotlib.pyplot as plt\n",
        "import seaborn as sns\n",
        "from sklearn.model_selection import train_test_split\n",
        "from sklearn.pipeline import Pipeline\n",
        "from sklearn.preprocessing import StandardScaler\n",
        "from sklearn.ensemble import RandomForestClassifier\n",
        "from sklearn.metrics import classification_report, confusion_matrix, roc_auc_score\n",
        "import joblib\n",
        "\n",
        "print(\"✅ Setup complete\")"
      ],
      "metadata": {
        "colab": {
          "base_uri": "https://localhost:8080/"
        },
        "id": "iRsJn9H3TXWT",
        "outputId": "0150a2b8-e1ef-415f-9a80-e704d11c0e36"
      },
      "execution_count": 5,
      "outputs": [
        {
          "output_type": "stream",
          "name": "stdout",
          "text": [
            "✅ Setup complete\n"
          ]
        }
      ]
    },
    {
      "cell_type": "code",
      "source": [
        "from google.colab import files\n",
        "uploaded = files.upload()"
      ],
      "metadata": {
        "colab": {
          "base_uri": "https://localhost:8080/",
          "height": 73
        },
        "id": "4fmd6vabgJe0",
        "outputId": "a16072ed-6b11-4c70-ba5e-5ade92fb4552"
      },
      "execution_count": 9,
      "outputs": [
        {
          "output_type": "display_data",
          "data": {
            "text/plain": [
              "<IPython.core.display.HTML object>"
            ],
            "text/html": [
              "\n",
              "     <input type=\"file\" id=\"files-769b6cc9-58d0-452f-b6d9-0cfc281f6f2d\" name=\"files[]\" multiple disabled\n",
              "        style=\"border:none\" />\n",
              "     <output id=\"result-769b6cc9-58d0-452f-b6d9-0cfc281f6f2d\">\n",
              "      Upload widget is only available when the cell has been executed in the\n",
              "      current browser session. Please rerun this cell to enable.\n",
              "      </output>\n",
              "      <script>// Copyright 2017 Google LLC\n",
              "//\n",
              "// Licensed under the Apache License, Version 2.0 (the \"License\");\n",
              "// you may not use this file except in compliance with the License.\n",
              "// You may obtain a copy of the License at\n",
              "//\n",
              "//      http://www.apache.org/licenses/LICENSE-2.0\n",
              "//\n",
              "// Unless required by applicable law or agreed to in writing, software\n",
              "// distributed under the License is distributed on an \"AS IS\" BASIS,\n",
              "// WITHOUT WARRANTIES OR CONDITIONS OF ANY KIND, either express or implied.\n",
              "// See the License for the specific language governing permissions and\n",
              "// limitations under the License.\n",
              "\n",
              "/**\n",
              " * @fileoverview Helpers for google.colab Python module.\n",
              " */\n",
              "(function(scope) {\n",
              "function span(text, styleAttributes = {}) {\n",
              "  const element = document.createElement('span');\n",
              "  element.textContent = text;\n",
              "  for (const key of Object.keys(styleAttributes)) {\n",
              "    element.style[key] = styleAttributes[key];\n",
              "  }\n",
              "  return element;\n",
              "}\n",
              "\n",
              "// Max number of bytes which will be uploaded at a time.\n",
              "const MAX_PAYLOAD_SIZE = 100 * 1024;\n",
              "\n",
              "function _uploadFiles(inputId, outputId) {\n",
              "  const steps = uploadFilesStep(inputId, outputId);\n",
              "  const outputElement = document.getElementById(outputId);\n",
              "  // Cache steps on the outputElement to make it available for the next call\n",
              "  // to uploadFilesContinue from Python.\n",
              "  outputElement.steps = steps;\n",
              "\n",
              "  return _uploadFilesContinue(outputId);\n",
              "}\n",
              "\n",
              "// This is roughly an async generator (not supported in the browser yet),\n",
              "// where there are multiple asynchronous steps and the Python side is going\n",
              "// to poll for completion of each step.\n",
              "// This uses a Promise to block the python side on completion of each step,\n",
              "// then passes the result of the previous step as the input to the next step.\n",
              "function _uploadFilesContinue(outputId) {\n",
              "  const outputElement = document.getElementById(outputId);\n",
              "  const steps = outputElement.steps;\n",
              "\n",
              "  const next = steps.next(outputElement.lastPromiseValue);\n",
              "  return Promise.resolve(next.value.promise).then((value) => {\n",
              "    // Cache the last promise value to make it available to the next\n",
              "    // step of the generator.\n",
              "    outputElement.lastPromiseValue = value;\n",
              "    return next.value.response;\n",
              "  });\n",
              "}\n",
              "\n",
              "/**\n",
              " * Generator function which is called between each async step of the upload\n",
              " * process.\n",
              " * @param {string} inputId Element ID of the input file picker element.\n",
              " * @param {string} outputId Element ID of the output display.\n",
              " * @return {!Iterable<!Object>} Iterable of next steps.\n",
              " */\n",
              "function* uploadFilesStep(inputId, outputId) {\n",
              "  const inputElement = document.getElementById(inputId);\n",
              "  inputElement.disabled = false;\n",
              "\n",
              "  const outputElement = document.getElementById(outputId);\n",
              "  outputElement.innerHTML = '';\n",
              "\n",
              "  const pickedPromise = new Promise((resolve) => {\n",
              "    inputElement.addEventListener('change', (e) => {\n",
              "      resolve(e.target.files);\n",
              "    });\n",
              "  });\n",
              "\n",
              "  const cancel = document.createElement('button');\n",
              "  inputElement.parentElement.appendChild(cancel);\n",
              "  cancel.textContent = 'Cancel upload';\n",
              "  const cancelPromise = new Promise((resolve) => {\n",
              "    cancel.onclick = () => {\n",
              "      resolve(null);\n",
              "    };\n",
              "  });\n",
              "\n",
              "  // Wait for the user to pick the files.\n",
              "  const files = yield {\n",
              "    promise: Promise.race([pickedPromise, cancelPromise]),\n",
              "    response: {\n",
              "      action: 'starting',\n",
              "    }\n",
              "  };\n",
              "\n",
              "  cancel.remove();\n",
              "\n",
              "  // Disable the input element since further picks are not allowed.\n",
              "  inputElement.disabled = true;\n",
              "\n",
              "  if (!files) {\n",
              "    return {\n",
              "      response: {\n",
              "        action: 'complete',\n",
              "      }\n",
              "    };\n",
              "  }\n",
              "\n",
              "  for (const file of files) {\n",
              "    const li = document.createElement('li');\n",
              "    li.append(span(file.name, {fontWeight: 'bold'}));\n",
              "    li.append(span(\n",
              "        `(${file.type || 'n/a'}) - ${file.size} bytes, ` +\n",
              "        `last modified: ${\n",
              "            file.lastModifiedDate ? file.lastModifiedDate.toLocaleDateString() :\n",
              "                                    'n/a'} - `));\n",
              "    const percent = span('0% done');\n",
              "    li.appendChild(percent);\n",
              "\n",
              "    outputElement.appendChild(li);\n",
              "\n",
              "    const fileDataPromise = new Promise((resolve) => {\n",
              "      const reader = new FileReader();\n",
              "      reader.onload = (e) => {\n",
              "        resolve(e.target.result);\n",
              "      };\n",
              "      reader.readAsArrayBuffer(file);\n",
              "    });\n",
              "    // Wait for the data to be ready.\n",
              "    let fileData = yield {\n",
              "      promise: fileDataPromise,\n",
              "      response: {\n",
              "        action: 'continue',\n",
              "      }\n",
              "    };\n",
              "\n",
              "    // Use a chunked sending to avoid message size limits. See b/62115660.\n",
              "    let position = 0;\n",
              "    do {\n",
              "      const length = Math.min(fileData.byteLength - position, MAX_PAYLOAD_SIZE);\n",
              "      const chunk = new Uint8Array(fileData, position, length);\n",
              "      position += length;\n",
              "\n",
              "      const base64 = btoa(String.fromCharCode.apply(null, chunk));\n",
              "      yield {\n",
              "        response: {\n",
              "          action: 'append',\n",
              "          file: file.name,\n",
              "          data: base64,\n",
              "        },\n",
              "      };\n",
              "\n",
              "      let percentDone = fileData.byteLength === 0 ?\n",
              "          100 :\n",
              "          Math.round((position / fileData.byteLength) * 100);\n",
              "      percent.textContent = `${percentDone}% done`;\n",
              "\n",
              "    } while (position < fileData.byteLength);\n",
              "  }\n",
              "\n",
              "  // All done.\n",
              "  yield {\n",
              "    response: {\n",
              "      action: 'complete',\n",
              "    }\n",
              "  };\n",
              "}\n",
              "\n",
              "scope.google = scope.google || {};\n",
              "scope.google.colab = scope.google.colab || {};\n",
              "scope.google.colab._files = {\n",
              "  _uploadFiles,\n",
              "  _uploadFilesContinue,\n",
              "};\n",
              "})(self);\n",
              "</script> "
            ]
          },
          "metadata": {}
        },
        {
          "output_type": "stream",
          "name": "stdout",
          "text": [
            "Saving final_dataset.csv to final_dataset.csv\n"
          ]
        }
      ]
    },
    {
      "cell_type": "code",
      "source": [
        "import pandas as pd\n",
        "df=pd.read_csv(\"final_dataset.csv\")\n",
        "print(df.head())"
      ],
      "metadata": {
        "colab": {
          "base_uri": "https://localhost:8080/"
        },
        "id": "9TOu1hUDgLZZ",
        "outputId": "8083a866-5a5a-4b21-de3e-ed14a79acc2c"
      },
      "execution_count": 10,
      "outputs": [
        {
          "output_type": "stream",
          "name": "stdout",
          "text": [
            "   daynight_N       lat        lon  fire_weather_index  pressure_mean  \\\n",
            "0         0.0 -15.19928   38.54393            5.654271     955.608333   \n",
            "1         1.0  31.51203 -101.57546           16.564673     927.016667   \n",
            "2         1.0 -13.74538   28.05493            5.542089     884.379167   \n",
            "3         0.0  13.53091  -11.22573            7.703410     981.158333   \n",
            "4         0.0   5.61833   16.59892           16.895093     917.116667   \n",
            "\n",
            "   wind_direction_mean  wind_direction_std  solar_radiation_mean  \\\n",
            "0           136.083333           43.611845            250.333333   \n",
            "1           181.333333           31.925260            296.916667   \n",
            "2           109.166667            8.379870            210.958333   \n",
            "3           168.416667          133.287570            244.208333   \n",
            "4           202.208333           91.791875            266.750000   \n",
            "\n",
            "   dewpoint_mean  cloud_cover_mean  evapotranspiration_total  humidity_min  \\\n",
            "0      15.883333         18.375000                      4.89          35.0   \n",
            "1      10.529167          3.416667                      7.24          16.0   \n",
            "2       6.095833         12.208333                      3.68          35.0   \n",
            "3      13.095833         56.458333                      5.59          29.0   \n",
            "4       6.712500          9.166667                      6.00          10.0   \n",
            "\n",
            "   temp_mean  temp_range  wind_speed_max  occured   frp  \n",
            "0  23.175000        12.9            13.5      0.0  3.69  \n",
            "1  29.733333        13.4            16.2      0.0  0.73  \n",
            "2  14.104167        11.1            16.8      0.0  0.78  \n",
            "3  26.704167        12.9            11.0      0.0  8.91  \n",
            "4  26.820833        16.0            16.6      0.0  5.97  \n"
          ]
        }
      ]
    },
    {
      "cell_type": "code",
      "source": [
        "print(df.info())\n",
        "print(df.describe())\n",
        "print(df.isnull().sum())\n"
      ],
      "metadata": {
        "colab": {
          "base_uri": "https://localhost:8080/"
        },
        "id": "F4qMpUr0mH8E",
        "outputId": "be1a8c22-779c-40c0-cb60-9e3c94f0ad75"
      },
      "execution_count": 11,
      "outputs": [
        {
          "output_type": "stream",
          "name": "stdout",
          "text": [
            "<class 'pandas.core.frame.DataFrame'>\n",
            "RangeIndex: 118858 entries, 0 to 118857\n",
            "Data columns (total 17 columns):\n",
            " #   Column                    Non-Null Count   Dtype  \n",
            "---  ------                    --------------   -----  \n",
            " 0   daynight_N                118858 non-null  float64\n",
            " 1   lat                       118858 non-null  float64\n",
            " 2   lon                       118858 non-null  float64\n",
            " 3   fire_weather_index        118858 non-null  float64\n",
            " 4   pressure_mean             118858 non-null  float64\n",
            " 5   wind_direction_mean       118858 non-null  float64\n",
            " 6   wind_direction_std        118858 non-null  float64\n",
            " 7   solar_radiation_mean      118858 non-null  float64\n",
            " 8   dewpoint_mean             118858 non-null  float64\n",
            " 9   cloud_cover_mean          118858 non-null  float64\n",
            " 10  evapotranspiration_total  118858 non-null  float64\n",
            " 11  humidity_min              118858 non-null  float64\n",
            " 12  temp_mean                 118858 non-null  float64\n",
            " 13  temp_range                118858 non-null  float64\n",
            " 14  wind_speed_max            118858 non-null  float64\n",
            " 15  occured                   118858 non-null  float64\n",
            " 16  frp                       118858 non-null  float64\n",
            "dtypes: float64(17)\n",
            "memory usage: 15.4 MB\n",
            "None\n",
            "          daynight_N            lat            lon  fire_weather_index  \\\n",
            "count  118858.000000  118858.000000  118858.000000       118858.000000   \n",
            "mean        0.149632       3.650698      20.227071           14.672501   \n",
            "std         0.356712      25.055919      72.194355           14.316822   \n",
            "min         0.000000     -51.785000    -158.038040          -16.923297   \n",
            "25%         0.000000     -14.865982     -12.236832            5.804666   \n",
            "50%         0.000000      -5.526890      23.755485           10.003812   \n",
            "75%         0.000000      13.114905      45.504955           17.988127   \n",
            "max         1.000000      71.230090     179.580090          211.626024   \n",
            "\n",
            "       pressure_mean  wind_direction_mean  wind_direction_std  \\\n",
            "count  118858.000000        118858.000000       118858.000000   \n",
            "mean      948.270298           149.199452           59.486299   \n",
            "std        47.444355            64.516883           43.111548   \n",
            "min       589.641667             8.916667            1.525250   \n",
            "25%       912.705208           101.958333           20.116490   \n",
            "50%       959.775000           140.125000           49.732322   \n",
            "75%       985.870833           192.708333           94.043974   \n",
            "max      1035.950000           353.083333          175.914392   \n",
            "\n",
            "       solar_radiation_mean  dewpoint_mean  cloud_cover_mean  \\\n",
            "count         118858.000000  118858.000000     118858.000000   \n",
            "mean             256.859788       8.934161         32.626913   \n",
            "std               42.210734       7.865816         27.400118   \n",
            "min                0.000000     -53.058333          0.000000   \n",
            "25%              233.208333       3.541667          7.625000   \n",
            "50%              254.958333       8.895833         27.625000   \n",
            "75%              282.625000      14.945833         53.166667   \n",
            "max              408.333333      26.537500        100.000000   \n",
            "\n",
            "       evapotranspiration_total   humidity_min      temp_mean     temp_range  \\\n",
            "count             118858.000000  118858.000000  118858.000000  118858.000000   \n",
            "mean                   5.946383      24.735373      24.569293      13.833092   \n",
            "std                    1.719804      13.149365       5.497142       2.863602   \n",
            "min                    0.000000       1.000000     -49.054167       0.300000   \n",
            "25%                    4.850000      15.000000      21.733333      12.000000   \n",
            "50%                    5.740000      22.000000      25.445833      13.900000   \n",
            "75%                    6.880000      33.000000      28.212500      15.700000   \n",
            "max                   16.620000      92.000000      41.554167      26.800000   \n",
            "\n",
            "       wind_speed_max        occured            frp  \n",
            "count   118858.000000  118858.000000  118858.000000  \n",
            "mean        16.664507       0.500194      18.657967  \n",
            "std          5.620617       0.500002      32.614357  \n",
            "min          3.300000       0.000000       0.000000  \n",
            "25%         12.700000       0.000000       4.770000  \n",
            "50%         15.600000       1.000000       9.670000  \n",
            "75%         19.500000       1.000000      18.480000  \n",
            "max         62.700000       1.000000    1056.150000  \n",
            "daynight_N                  0\n",
            "lat                         0\n",
            "lon                         0\n",
            "fire_weather_index          0\n",
            "pressure_mean               0\n",
            "wind_direction_mean         0\n",
            "wind_direction_std          0\n",
            "solar_radiation_mean        0\n",
            "dewpoint_mean               0\n",
            "cloud_cover_mean            0\n",
            "evapotranspiration_total    0\n",
            "humidity_min                0\n",
            "temp_mean                   0\n",
            "temp_range                  0\n",
            "wind_speed_max              0\n",
            "occured                     0\n",
            "frp                         0\n",
            "dtype: int64\n"
          ]
        }
      ]
    },
    {
      "cell_type": "code",
      "source": [],
      "metadata": {
        "id": "l3b_MspVnB2y"
      },
      "execution_count": null,
      "outputs": []
    }
  ]
}